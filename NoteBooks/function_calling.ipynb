{
 "cells": [
  {
   "cell_type": "code",
   "execution_count": 1,
   "metadata": {},
   "outputs": [],
   "source": [
    "# Importing Necessary Modules \n",
    "import openai\n",
    "import os\n",
    "import json\n",
    "from pprint import pprint\n",
    "import requests\n",
    "from tenacity import retry, wait_random_exponential, stop_after_attempt\n",
    "from termcolor import colored\n",
    "import re\n",
    "import sys \n",
    "from sqlalchemy import create_engine\n",
    "from sqlalchemy.orm import sessionmaker\n",
    "from sqlalchemy import inspect\n",
    "from dotenv import load_dotenv, find_dotenv\n",
    "from openai import OpenAI "
   ]
  },
  {
   "cell_type": "code",
   "execution_count": 2,
   "metadata": {},
   "outputs": [],
   "source": [
    "# Importing Chat GPT Model\n",
    "GPT_MODEL = \"gpt-3.5-turbo-0613\""
   ]
  },
  {
   "cell_type": "code",
   "execution_count": 3,
   "metadata": {},
   "outputs": [],
   "source": [
    "load_dotenv()\n",
    "openai.api_key  = os.getenv('OPENAI_API_KEY')"
   ]
  },
  {
   "cell_type": "code",
   "execution_count": 4,
   "metadata": {},
   "outputs": [],
   "source": [
    "username = os.getenv(\"POSTGRES_USERNAME\")\n",
    "password = os.getenv(\"POSTGRES_PASSWORD\")\n",
    "host = os.getenv(\"POSTGRES_HOST\")\n",
    "port = os.getenv(\"POSTGRES_PORT\")\n",
    "database = os.getenv(\"POSTGRES_DATABASE\")\n",
    "database_url = f\"postgresql://{username}:{password}@{host}:{port}/{database}\"\n",
    "engine = create_engine(database_url)\n",
    "Session = sessionmaker(bind=engine)\n"
   ]
  },
  {
   "cell_type": "code",
   "execution_count": 5,
   "metadata": {},
   "outputs": [
    {
     "name": "stdout",
     "output_type": "stream",
     "text": [
      "Opened database successfully\n"
     ]
    }
   ],
   "source": [
    "conn = engine.connect()\n",
    "print(\"Opened database successfully\")"
   ]
  },
  {
   "cell_type": "code",
   "execution_count": 6,
   "metadata": {},
   "outputs": [],
   "source": [
    "@retry(wait=wait_random_exponential(multiplier=1, max=40), stop=stop_after_attempt(3))\n",
    "def chat_completion_request(messages, tools=None, tool_choice=None, model=GPT_MODEL):\n",
    "    headers = {\n",
    "        \"Content-Type\": \"application/json\",\n",
    "        \"Authorization\": \"Bearer \" + openai.api_key,\n",
    "    }\n",
    "    json_data = {\"model\": model, \"messages\": messages}\n",
    "    if tools is not None:\n",
    "        json_data.update({\"tools\": tools})\n",
    "    if tool_choice is not None:\n",
    "        json_data.update({\"tool_choice\": tool_choice})\n",
    "    try:\n",
    "        response = requests.post(\n",
    "            \"https://api.openai.com/v1/chat/completions\",\n",
    "            headers=headers,\n",
    "            json=json_data,\n",
    "        )\n",
    "\n",
    "        return response\n",
    "    except Exception as e:\n",
    "        print(\"Unable to generate ChatCompletion response\")\n",
    "        print(f\"Exception: {e}\")\n",
    "        return e"
   ]
  },
  {
   "cell_type": "code",
   "execution_count": 7,
   "metadata": {},
   "outputs": [],
   "source": [
    "def pretty_print_conversation(messages):\n",
    "    role_to_color = {\n",
    "        \"system\": \"red\",\n",
    "        \"user\": \"green\",\n",
    "        \"assistant\": \"blue\",\n",
    "        \"tool\": \"magenta\",\n",
    "    }\n",
    "\n",
    "    for message in messages:\n",
    "        if message[\"role\"] == \"system\":\n",
    "            print(colored(f\"system: {message['content']}\\n\", role_to_color[message[\"role\"]]))\n",
    "        elif message[\"role\"] == \"user\":\n",
    "            print(colored(f\"user: {message['content']}\\n\", role_to_color[message[\"role\"]]))\n",
    "        elif message[\"role\"] == \"assistant\" and message.get(\"function_call\"):\n",
    "            print(colored(f\"assistant: {message['function_call']}\\n\", role_to_color[message[\"role\"]]))\n",
    "        elif message[\"role\"] == \"assistant\" and not message.get(\"function_call\"):\n",
    "            print(colored(f\"assistant: {message['content']}\\n\", role_to_color[message[\"role\"]]))\n",
    "        elif message[\"role\"] == \"tool\":\n",
    "            print(colored(f\"function ({message['name']}): {message['content']}\\n\", role_to_color[message[\"role\"]]))"
   ]
  },
  {
   "cell_type": "code",
   "execution_count": 8,
   "metadata": {},
   "outputs": [],
   "source": [
    "def get_table_names(engine):\n",
    "    \"\"\"Return a list of table names.\"\"\"\n",
    "    table_names = []\n",
    "    inspector = inspect(engine)\n",
    "    for table_name in inspector.get_table_names():\n",
    "        table_names.append(f'\"{table_name}\"')  # Add double quotes around table name\n",
    "    return table_names\n",
    "\n",
    "def get_column_names(engine, table_name):\n",
    "    \"\"\"Return a list of column names.\"\"\"\n",
    "    column_names = []\n",
    "    inspector = inspect(engine)\n",
    "    for column in inspector.get_columns(table_name):\n",
    "        column_names.append(f'\"{column[\"name\"]}\"')  # Add double quotes around column name\n",
    "    return column_names\n",
    "\n",
    "def get_database_info(engine):\n",
    "    \"\"\"Return a list of dicts containing the table name and columns for each table in the database.\"\"\"\n",
    "    table_dicts = []\n",
    "    inspector = inspect(engine)\n",
    "    for table_name in inspector.get_table_names():\n",
    "        columns_names = get_column_names(engine, table_name)\n",
    "        table_dicts.append({\"table_name\": f'\"{table_name}\"', \"column_names\": columns_names})  # Add double quotes around table name\n",
    "    return table_dicts"
   ]
  },
  {
   "cell_type": "code",
   "execution_count": 9,
   "metadata": {},
   "outputs": [],
   "source": [
    "database_schema_dict = get_database_info(conn)\n",
    "database_schema_string = \"\\n\".join(\n",
    "    [\n",
    "        f'Table: \"{table[\"table_name\"]}\"\\nColumns: {\", \".join([f\"{col}\" for col in table[\"column_names\"]])}'\n",
    "        for table in database_schema_dict\n",
    "    ]\n",
    ")"
   ]
  },
  {
   "cell_type": "code",
   "execution_count": 10,
   "metadata": {},
   "outputs": [],
   "source": [
    "tools = [\n",
    "    {\n",
    "        \"type\": \"function\",\n",
    "        \"function\": {\n",
    "            \"name\": \"ask_database\",\n",
    "            \"description\": \"Use this function to answer user questions about youtube. Input should be a fully formed SQL query.\",\n",
    "            \"parameters\": {\n",
    "                \"type\": \"object\",\n",
    "                \"properties\": {\n",
    "                    \"query\": {\n",
    "                        \"type\": \"string\",\n",
    "                        \"description\": f\"\"\"\n",
    "                                SQL query extracting info to answer the user's question.\n",
    "                                SQL should be written using this database schema:\n",
    "                                {database_schema_string}\n",
    "                                The query should be returned in plain text, not in JSON.\n",
    "                                \"\"\",\n",
    "                    }\n",
    "                },\n",
    "                \"required\": [\"query\"],\n",
    "            },\n",
    "        }\n",
    "    }\n",
    "]"
   ]
  },
  {
   "cell_type": "code",
   "execution_count": 13,
   "metadata": {},
   "outputs": [],
   "source": [
    "def ask_database(engine, query):\n",
    "    \"\"\"Function to query PostgreSQL database with a provided SQL query.\"\"\"\n",
    "    try:\n",
    "        print(\"Executing Query:\", query)  # Add this line\n",
    "        with engine.connect() as conn:\n",
    "            result = conn.execute(query)\n",
    "            results = result.fetchall()\n",
    "    except Exception as e:\n",
    "        results = f\"Query failed with error: {e}\"\n",
    "    return results\n",
    "\n",
    "# def ask_database(engine, query):\n",
    "#     \"\"\"Function to query PostgreSQL database with a provided SQL query.\"\"\"\n",
    "#     try:\n",
    "#         with engine.connect() as conn:\n",
    "#             result = conn.execute(query)\n",
    "#             results = result.fetchall()\n",
    "#     except Exception as e:\n",
    "#         print(\"Query execution failed with error:\", e)  # Add this line\n",
    "#         results = f\"Query failed with error: {e}\"\n",
    "#     return results\n",
    "def execute_function_call(message, engine):\n",
    "    if message[\"tool_calls\"][0][\"function\"][\"name\"] == \"ask_database\":\n",
    "        query = json.loads(message[\"tool_calls\"][0][\"function\"][\"arguments\"])[\"query\"]\n",
    "        results = ask_database(engine, query)\n",
    "    else:\n",
    "        results = f\"Error: function {message['tool_calls'][0]['function']['name']} does not exist\"\n",
    "    return results"
   ]
  },
  {
   "cell_type": "code",
   "execution_count": 14,
   "metadata": {},
   "outputs": [
    {
     "name": "stdout",
     "output_type": "stream",
     "text": [
      "=================== {'id': 'chatcmpl-9OnOj57kJjf6e4FL15211EOzf55bc', 'object': 'chat.completion', 'created': 1715696785, 'model': 'gpt-3.5-turbo-0613', 'choices': [{'index': 0, 'message': {'role': 'assistant', 'content': None, 'tool_calls': [{'id': 'call_khAmwguuGIhcFI31eGD4HSYr', 'type': 'function', 'function': {'name': 'ask_database', 'arguments': '{\\n  \"query\": \"SELECT \\\\\"City name\\\\\", SUM(\\\\\"Views\\\\\") AS TotalViews FROM \\\\\"cities_table_data\\\\\" GROUP BY \\\\\"City name\\\\\" ORDER BY TotalViews DESC LIMIT 5;\"\\n}'}}]}, 'logprobs': None, 'finish_reason': 'tool_calls'}], 'usage': {'prompt_tokens': 866, 'completion_tokens': 46, 'total_tokens': 912}, 'system_fingerprint': None}\n",
      "=================== {'name': 'ask_database', 'arguments': '{\\n  \"query\": \"SELECT \\\\\"City name\\\\\", SUM(\\\\\"Views\\\\\") AS TotalViews FROM \\\\\"cities_table_data\\\\\" GROUP BY \\\\\"City name\\\\\" ORDER BY TotalViews DESC LIMIT 5;\"\\n}'}\n",
      "Executing Query: SELECT \"City name\", SUM(\"Views\") AS TotalViews FROM \"cities_table_data\" GROUP BY \"City name\" ORDER BY TotalViews DESC LIMIT 5;\n",
      "\u001b[31msystem: Answer user queries by generating SQL queries from the youtube data.\n",
      "\u001b[0m\n",
      "\u001b[32muser: Hi, who are the top 5 cities by number of viewers?\n",
      "\u001b[0m\n",
      "\u001b[34massistant: {'name': 'ask_database', 'arguments': '{\\n  \"query\": \"SELECT \\\\\"City name\\\\\", SUM(\\\\\"Views\\\\\") AS TotalViews FROM \\\\\"cities_table_data\\\\\" GROUP BY \\\\\"City name\\\\\" ORDER BY TotalViews DESC LIMIT 5;\"\\n}'}\n",
      "\u001b[0m\n",
      "\u001b[35mfunction (ask_database): []\n",
      "\u001b[0m\n"
     ]
    }
   ],
   "source": [
    "messages = []\n",
    "messages.append({\"role\": \"system\", \"content\": \"Answer user queries by generating SQL queries from the youtube data.\"})\n",
    "messages.append({\"role\": \"user\", \"content\": \"Hi, who are the top 5 cities by number of viewers?\"})\n",
    "chat_response = chat_completion_request(messages, tools)\n",
    "print(\"===================\",chat_response.json())\n",
    "assistant_message = chat_response.json()[\"choices\"][0][\"message\"]\n",
    "assistant_message['content'] = str(assistant_message[\"tool_calls\"][0][\"function\"])\n",
    "print(\"===================\",assistant_message['content'])\n",
    "messages.append(assistant_message)\n",
    "if assistant_message.get(\"tool_calls\"):\n",
    "    results = execute_function_call(assistant_message, engine)\n",
    "    messages.append({\"role\": \"tool\", \"tool_call_id\": assistant_message[\"tool_calls\"][0]['id'], \"name\": assistant_message[\"tool_calls\"][0][\"function\"][\"name\"], \"content\": results})\n",
    "pretty_print_conversation(messages)"
   ]
  },
  {
   "cell_type": "code",
   "execution_count": 15,
   "metadata": {},
   "outputs": [
    {
     "name": "stdout",
     "output_type": "stream",
     "text": [
      "Executing Query: SELECT \"City name\" FROM (\"cities_table_data\") WHERE \"Views\" = (SELECT MAX(\"Views\") FROM (\"cities_table_data\")) LIMIT 1;\n",
      "\u001b[31msystem: Answer user queries by generating SQL queries from the youtube data.\n",
      "\u001b[0m\n",
      "\u001b[32muser: Hi, who are the top 5 cities by number of viewers?\n",
      "\u001b[0m\n",
      "\u001b[34massistant: {'name': 'ask_database', 'arguments': '{\\n  \"query\": \"SELECT \\\\\"City name\\\\\", SUM(\\\\\"Views\\\\\") AS TotalViews FROM \\\\\"cities_table_data\\\\\" GROUP BY \\\\\"City name\\\\\" ORDER BY TotalViews DESC LIMIT 5;\"\\n}'}\n",
      "\u001b[0m\n",
      "\u001b[35mfunction (ask_database): []\n",
      "\u001b[0m\n",
      "\u001b[32muser: What is the name of the city with the most views?\n",
      "\u001b[0m\n",
      "\u001b[34massistant: {'name': 'ask_database', 'arguments': '{\\n  \"query\": \"SELECT \\\\\"City name\\\\\" FROM (\\\\\"cities_table_data\\\\\") WHERE \\\\\"Views\\\\\" = (SELECT MAX(\\\\\"Views\\\\\") FROM (\\\\\"cities_table_data\\\\\")) LIMIT 1;\"\\n}'}\n",
      "\u001b[0m\n",
      "\u001b[35mfunction (ask_database): Query failed with error: (psycopg2.errors.SyntaxError) syntax error at or near \")\"\n",
      "LINE 1: SELECT \"City name\" FROM (\"cities_table_data\") WHERE \"Views\" ...\n",
      "                                                    ^\n",
      "\n",
      "[SQL: SELECT \"City name\" FROM (\"cities_table_data\") WHERE \"Views\" = (SELECT MAX(\"Views\") FROM (\"cities_table_data\")) LIMIT 1;]\n",
      "(Background on this error at: http://sqlalche.me/e/13/f405)\n",
      "\u001b[0m\n"
     ]
    }
   ],
   "source": [
    "messages.append({\"role\": \"user\", \"content\": \"What is the name of the city with the most views?\"})\n",
    "chat_response = chat_completion_request(messages, tools)\n",
    "assistant_message = chat_response.json()[\"choices\"][0][\"message\"]\n",
    "assistant_message['content'] = str(assistant_message[\"tool_calls\"][0][\"function\"])\n",
    "messages.append(assistant_message)\n",
    "if assistant_message.get(\"tool_calls\"):\n",
    "    results = execute_function_call(assistant_message, engine)\n",
    "    messages.append({\"role\": \"tool\", \"tool_call_id\": assistant_message[\"tool_calls\"][0]['id'], \"name\": assistant_message[\"tool_calls\"][0][\"function\"][\"name\"], \"content\": results})\n",
    "pretty_print_conversation(messages)"
   ]
  },
  {
   "cell_type": "code",
   "execution_count": 16,
   "metadata": {},
   "outputs": [
    {
     "name": "stdout",
     "output_type": "stream",
     "text": [
      "Query execution failed with error: Not an executable object: 'SELECT city, COUNT(*) AS view_count FROM viewers GROUP BY city ORDER BY view_count DESC LIMIT 1'\n",
      "\u001b[31msystem: Answer user questions by generating SQL queries against the youtube data Database.\n",
      "\u001b[0m\n",
      "\u001b[32muser: Hi, who are the top 5 cities by number of viewers?\n",
      "\u001b[0m\n",
      "\u001b[34massistant: {'name': 'ask_database', 'arguments': '{\\n  \"query\": \"SELECT city, COUNT(DISTINCT user_id) AS viewer_count FROM viewers GROUP BY city ORDER BY viewer_count DESC LIMIT 5\"\\n}'}\n",
      "\u001b[0m\n",
      "\u001b[35mfunction (ask_database): Query failed with error: Not an executable object: 'SELECT city, COUNT(DISTINCT user_id) AS viewer_count FROM viewers GROUP BY city ORDER BY viewer_count DESC LIMIT 5'\n",
      "\u001b[0m\n",
      "\u001b[32muser: What is the name of the city with the most views?\n",
      "\u001b[0m\n",
      "\u001b[34massistant: {'name': 'ask_database', 'arguments': '{\\n  \"query\": \"SELECT city, COUNT(*) AS view_count FROM viewers GROUP BY city ORDER BY view_count DESC LIMIT 1\"\\n}'}\n",
      "\u001b[0m\n",
      "\u001b[35mfunction (ask_database): Query failed with error: Not an executable object: 'SELECT city, COUNT(*) AS view_count FROM viewers GROUP BY city ORDER BY view_count DESC LIMIT 1'\n",
      "\u001b[0m\n",
      "\u001b[32muser: What is the name of the city with the most views?\n",
      "\u001b[0m\n",
      "\u001b[34massistant: {'name': 'ask_database', 'arguments': '{\\n  \"query\": \"SELECT city, COUNT(*) AS view_count FROM viewers GROUP BY city ORDER BY view_count DESC LIMIT 1\"\\n}'}\n",
      "\u001b[0m\n",
      "\u001b[35mfunction (ask_database): Query failed with error: Not an executable object: 'SELECT city, COUNT(*) AS view_count FROM viewers GROUP BY city ORDER BY view_count DESC LIMIT 1'\n",
      "\u001b[0m\n"
     ]
    }
   ],
   "source": [
    "messages.append({\"role\": \"user\", \"content\": \"What is the name of the city with the most views?\"})\n",
    "chat_response = chat_completion_request(messages, tools)\n",
    "assistant_message = chat_response.json()[\"choices\"][0][\"message\"]\n",
    "assistant_message['content'] = str(assistant_message[\"tool_calls\"][0][\"function\"])\n",
    "messages.append(assistant_message)\n",
    "if assistant_message.get(\"tool_calls\"):\n",
    "    results = execute_function_call(assistant_message, engine)\n",
    "    messages.append({\"role\": \"tool\", \"tool_call_id\": assistant_message[\"tool_calls\"][0]['id'], \"name\": assistant_message[\"tool_calls\"][0][\"function\"][\"name\"], \"content\": results})\n",
    "pretty_print_conversation(messages)"
   ]
  }
 ],
 "metadata": {
  "kernelspec": {
   "display_name": "venv",
   "language": "python",
   "name": "python3"
  },
  "language_info": {
   "codemirror_mode": {
    "name": "ipython",
    "version": 3
   },
   "file_extension": ".py",
   "mimetype": "text/x-python",
   "name": "python",
   "nbconvert_exporter": "python",
   "pygments_lexer": "ipython3",
   "version": "3.10.10"
  }
 },
 "nbformat": 4,
 "nbformat_minor": 2
}
